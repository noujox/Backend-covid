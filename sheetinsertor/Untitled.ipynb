{
 "cells": [
  {
   "cell_type": "code",
   "execution_count": 1,
   "metadata": {},
   "outputs": [
    {
     "name": "stdout",
     "output_type": "stream",
     "text": [
      "Collecting gspread\n",
      "  Downloading gspread-3.6.0-py3-none-any.whl (26 kB)\n",
      "Requirement already satisfied: oauth2client in d:\\programiwis\\anaconda\\lib\\site-packages (4.1.3)\n",
      "Requirement already satisfied: google-auth>=1.12.0 in d:\\programiwis\\anaconda\\lib\\site-packages (from gspread) (1.20.0)\n",
      "Requirement already satisfied: requests>=2.2.1 in d:\\programiwis\\anaconda\\lib\\site-packages (from gspread) (2.22.0)\n",
      "Collecting google-auth-oauthlib>=0.4.1\n",
      "  Using cached google_auth_oauthlib-0.4.1-py2.py3-none-any.whl (18 kB)\n",
      "Requirement already satisfied: six>=1.6.1 in d:\\programiwis\\anaconda\\lib\\site-packages (from oauth2client) (1.14.0)\n",
      "Requirement already satisfied: pyasn1>=0.1.7 in d:\\programiwis\\anaconda\\lib\\site-packages (from oauth2client) (0.4.8)\n",
      "Requirement already satisfied: pyasn1-modules>=0.0.5 in d:\\programiwis\\anaconda\\lib\\site-packages (from oauth2client) (0.2.8)\n",
      "Requirement already satisfied: rsa>=3.1.4 in d:\\programiwis\\anaconda\\lib\\site-packages (from oauth2client) (4.6)\n",
      "Requirement already satisfied: httplib2>=0.9.1 in d:\\programiwis\\anaconda\\lib\\site-packages (from oauth2client) (0.18.1)\n",
      "Requirement already satisfied: cachetools<5.0,>=2.0.0 in d:\\programiwis\\anaconda\\lib\\site-packages (from google-auth>=1.12.0->gspread) (4.1.1)\n",
      "Requirement already satisfied: setuptools>=40.3.0 in d:\\programiwis\\anaconda\\lib\\site-packages (from google-auth>=1.12.0->gspread) (45.2.0.post20200210)\n",
      "Requirement already satisfied: chardet<3.1.0,>=3.0.2 in d:\\programiwis\\anaconda\\lib\\site-packages (from requests>=2.2.1->gspread) (3.0.4)\n",
      "Requirement already satisfied: certifi>=2017.4.17 in d:\\programiwis\\anaconda\\lib\\site-packages (from requests>=2.2.1->gspread) (2019.11.28)\n",
      "Requirement already satisfied: urllib3!=1.25.0,!=1.25.1,<1.26,>=1.21.1 in d:\\programiwis\\anaconda\\lib\\site-packages (from requests>=2.2.1->gspread) (1.25.8)\n",
      "Requirement already satisfied: idna<2.9,>=2.5 in d:\\programiwis\\anaconda\\lib\\site-packages (from requests>=2.2.1->gspread) (2.8)\n",
      "Collecting requests-oauthlib>=0.7.0\n",
      "  Using cached requests_oauthlib-1.3.0-py2.py3-none-any.whl (23 kB)\n",
      "Collecting oauthlib>=3.0.0\n",
      "  Using cached oauthlib-3.1.0-py2.py3-none-any.whl (147 kB)\n",
      "Installing collected packages: oauthlib, requests-oauthlib, google-auth-oauthlib, gspread\n",
      "Successfully installed google-auth-oauthlib-0.4.1 gspread-3.6.0 oauthlib-3.1.0 requests-oauthlib-1.3.0\n"
     ]
    }
   ],
   "source": [
    "!pip install gspread oauth2client"
   ]
  },
  {
   "cell_type": "code",
   "execution_count": 2,
   "metadata": {},
   "outputs": [],
   "source": [
    "import gspread\n",
    "from oauth2client.service_account import ServiceAccountCredentials\n",
    "from pprint import pprint"
   ]
  },
  {
   "cell_type": "code",
   "execution_count": 13,
   "metadata": {},
   "outputs": [
    {
     "name": "stdout",
     "output_type": "stream",
     "text": [
      "[{'asd': 'qq', '123': 114, '43': 'ghghh'}, {'asd': 'asd', '123': 'chale', '43': 'hf'}, {'asd': 'asdqw', '123': 'dde', '43': 'ffh'}, {'asd': 'ere', '123': 'ert', '43': 'te'}]\n"
     ]
    }
   ],
   "source": [
    "\n",
    "\n",
    "scope = [\"https://spreadsheets.google.com/feeds\",'https://www.googleapis.com/auth/spreadsheets',\"https://www.googleapis.com/auth/drive.file\",\"https://www.googleapis.com/auth/drive\"]\n",
    "\n",
    "creds = ServiceAccountCredentials.from_json_keyfile_name(\"credentials.json\", scope)\n",
    "\n",
    "client = gspread.authorize(creds)\n",
    "\n",
    "sheet = client.open(\"BD COVID19\").sheet1  # Open the spreadhseet\n",
    "\n",
    "data = sheet.get_all_records()  # Get a list of all records\n",
    "\n",
    "print(data)"
   ]
  },
  {
   "cell_type": "code",
   "execution_count": 27,
   "metadata": {},
   "outputs": [
    {
     "data": {
      "text/plain": [
       "{'spreadsheetId': '1JUnXTLl8RyYLim9awigjijB5sjCsdfFSaGujoCsYS1s',\n",
       " 'tableRange': \"'Hoja 1'!A1:C5\",\n",
       " 'updates': {'spreadsheetId': '1JUnXTLl8RyYLim9awigjijB5sjCsdfFSaGujoCsYS1s',\n",
       "  'updatedRange': \"'Hoja 1'!A6:D6\",\n",
       "  'updatedRows': 1,\n",
       "  'updatedColumns': 4,\n",
       "  'updatedCells': 4}}"
      ]
     },
     "execution_count": 27,
     "metadata": {},
     "output_type": "execute_result"
    }
   ],
   "source": [
    "row = sheet.row_values(3)  # Get a specific row\n",
    "col = sheet.col_values(3)  # Get a specific column\n",
    "cell = sheet.cell(1,2).value  # Get the value of a specific cell\n",
    "\n",
    "insertRow = [\"hello\", 5, \"red\", \"blue\"]\n",
    "sheet.append_row(insertRow)  # Insert the list as a row at index 4\n"
   ]
  },
  {
   "cell_type": "code",
   "execution_count": 26,
   "metadata": {},
   "outputs": [],
   "source": [
    "sheet.update_cell(2,2, \"CHANGED\")  # Update one cell\n",
    "\n",
    "numRows = sheet.row_count  # Get the number of rows in the sheet"
   ]
  },
  {
   "cell_type": "code",
   "execution_count": null,
   "metadata": {},
   "outputs": [],
   "source": []
  }
 ],
 "metadata": {
  "kernelspec": {
   "display_name": "Python 3",
   "language": "python",
   "name": "python3"
  },
  "language_info": {
   "codemirror_mode": {
    "name": "ipython",
    "version": 3
   },
   "file_extension": ".py",
   "mimetype": "text/x-python",
   "name": "python",
   "nbconvert_exporter": "python",
   "pygments_lexer": "ipython3",
   "version": "3.7.6"
  }
 },
 "nbformat": 4,
 "nbformat_minor": 4
}
